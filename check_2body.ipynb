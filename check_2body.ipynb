{
 "cells": [
  {
   "cell_type": "code",
   "execution_count": 336,
   "metadata": {},
   "outputs": [],
   "source": [
    "import numpy as np\n",
    "import pandas as pd\n",
    "from  MDAnalysis.coordinates.LAMMPS import DumpReader\n",
    "import matplotlib\n",
    "from cycler import cycler\n",
    "import matplotlib.pyplot as plt \n",
    "import os\n",
    "import LammpsFileManipulation as LFM\n",
    "import MDAnalysis as mda\n",
    "import matplotlib.pyplot as plt"
   ]
  },
  {
   "cell_type": "code",
   "execution_count": 337,
   "metadata": {},
   "outputs": [],
   "source": [
    "def theorical_ans(X, l_param):\n",
    "    Ans = []\n",
    "    for x in X:\n",
    "        \n",
    "        if abs(x) <= 1.12*3:\n",
    "            Ans.append(4 * (-12* 3**12/(x**13) + 6*3**6/(x**7)))\n",
    "        elif abs(x)< 2.5*3:\n",
    "            Ans.append(l_param * 4 * (-12* 3**12/(x**13) + 6*3**6/(x**7)))\n",
    "        else:\n",
    "            print(x)\n",
    "            Ans.append(0)\n",
    "    return np.array(Ans)\n",
    "\n",
    "def theorical_ans_2(X, cut):\n",
    "    Ans = []\n",
    "    for x in X:\n",
    "        if abs(x) < cut*3:\n",
    "            Ans.append(4 * (-12* 3**12/(x**13) + 6*3**6/(x**7)))\n",
    "        else:\n",
    "\n",
    "            Ans.append(0)\n",
    "    return np.array(Ans)\n",
    "\n",
    "\n",
    "def new_theo(X, l):\n",
    "    Ans = []\n",
    "    for x in X:\n",
    "        \n",
    "        if abs(x) <= 1.12*3:\n",
    "            Ans.append((-48/x**5* 3**12 + 24* 3**6 *x)/x**8)\n",
    "        elif abs(x)< 2.5*3:\n",
    "            Ans.append((-48/x**5* 3**12 *l+ 24* 3**6 *x*l)/x**8)\n",
    "        else:\n",
    "            print(x)\n",
    "            Ans.append(0)\n",
    "    return np.array(Ans)\n"
   ]
  },
  {
   "cell_type": "code",
   "execution_count": 338,
   "metadata": {},
   "outputs": [],
   "source": [
    "dumpfile_name = \"test_files/dump.test_2body\"\n",
    "energy_file = \"test_files/1_0f_50n_0.0_energy.txt\""
   ]
  },
  {
   "cell_type": "code",
   "execution_count": 339,
   "metadata": {},
   "outputs": [],
   "source": [
    "x_1 = []\n",
    "x_2 = []\n",
    "f_1 = []\n",
    "f_2 = []\n",
    "e = []\n"
   ]
  },
  {
   "cell_type": "code",
   "execution_count": null,
   "metadata": {},
   "outputs": [],
   "source": []
  },
  {
   "cell_type": "code",
   "execution_count": 340,
   "metadata": {},
   "outputs": [],
   "source": [
    "with open(dumpfile_name) as f1:\n",
    "    with open(energy_file) as f2:\n",
    "        line2 = f2.readline()\n",
    "        line1 = f1.readline()\n",
    "        while line1:\n",
    "            if line1.startswith(\"1 1\"):\n",
    "                words = line1.split() \n",
    "                x_1.append(float(words[2]))\n",
    "                f_1.append(float(words[8]))\n",
    "                line1 = f1.readline()\n",
    "                words = line1.split() \n",
    "                x_2.append(float(words[2]))\n",
    "                f_2.append(float(words[8]))\n",
    "                line2 = f2.readline()\n",
    "                words = line2.split()\n",
    "                e.append(float(words[2]))\n",
    "                if abs(x_1[-1]-x_2[-1]) < 0.1:\n",
    "                        break\n",
    "            line1 = f1.readline()"
   ]
  },
  {
   "cell_type": "code",
   "execution_count": 341,
   "metadata": {},
   "outputs": [],
   "source": [
    "# x_1.pop()\n",
    "# f_1.pop()"
   ]
  },
  {
   "cell_type": "code",
   "execution_count": 342,
   "metadata": {},
   "outputs": [
    {
     "data": {
      "text/plain": [
       "array([1.99    , 1.989985, 1.98998 , ..., 0.10002 , 0.100005, 0.1     ])"
      ]
     },
     "execution_count": 342,
     "metadata": {},
     "output_type": "execute_result"
    }
   ],
   "source": [
    "np.abs(np.array(x_1) - np.array(x_2))"
   ]
  },
  {
   "cell_type": "code",
   "execution_count": 343,
   "metadata": {},
   "outputs": [],
   "source": [
    "def force_theo(r):\n",
    "    if r<1E-8:\n",
    "        return 0\n",
    "    if r<1:\n",
    "        return 1/r\n",
    "    elif r<2:\n",
    "        return (r * np.e**(-r**2))\n",
    "    else:\n",
    "        return 0\n",
    "    \n",
    "vfunc = np.vectorize(force_theo)"
   ]
  },
  {
   "cell_type": "code",
   "execution_count": 344,
   "metadata": {},
   "outputs": [
    {
     "data": {
      "text/plain": [
       "array([ 0.0379318 ,  0.03793378,  0.03793444, ...,  9.9980004 ,\n",
       "        9.99950002, 10.        ])"
      ]
     },
     "execution_count": 344,
     "metadata": {},
     "output_type": "execute_result"
    }
   ],
   "source": [
    "vfunc(np.abs(np.array(x_1) - np.array(x_2)))"
   ]
  },
  {
   "cell_type": "code",
   "execution_count": 345,
   "metadata": {},
   "outputs": [
    {
     "data": {
      "image/png": "[encoded data removed]",
      "text/plain": [
       "<Figure size 600x400 with 1 Axes>"
      ]
     },
     "metadata": {},
     "output_type": "display_data"
    }
   ],
   "source": [
    "fig, ax = plt.subplots(1, 1, figsize = (6,4))\n",
    "ax.scatter(np.abs(np.array(x_1) - np.array(x_2)), f_1, alpha = 0.5, label = 'code results', marker = '+', color = 'silver')\n",
    "ax.plot(np.abs(np.array(x_1) - np.array(x_2)), vfunc(np.abs(np.array(x_1) - np.array(x_2))), label = 'theorical result')\n",
    "ax.set( xlabel = r'$\\frac{r_{ij}}{R}$', ylabel = r'$F_{log,exp}$')\n",
    "ax.legend()\n",
    "plt.savefig(\"test_2_body.pdf\", dpi = 400)"
   ]
  },
  {
   "cell_type": "code",
   "execution_count": 346,
   "metadata": {},
   "outputs": [],
   "source": [
    "def energy_theo(r):\n",
    "    if r<1E-8:\n",
    "        return 0\n",
    "    if r<1:\n",
    "        return -np.log(r) +  + 1/2.71828/2\n",
    "    elif r<2:\n",
    "        return ( np.e**(-r**2)/2)\n",
    "    else:\n",
    "        return 0\n",
    "    \n",
    "vfunc = np.vectorize(energy_theo)"
   ]
  },
  {
   "cell_type": "code",
   "execution_count": 347,
   "metadata": {},
   "outputs": [
    {
     "data": {
      "image/png": "[encoded data removed]",
      "text/plain": [
       "<Figure size 600x400 with 1 Axes>"
      ]
     },
     "metadata": {},
     "output_type": "display_data"
    }
   ],
   "source": [
    "fig, ax = plt.subplots(1, 1, figsize = (6,4))\n",
    "ax.scatter(np.abs(np.array(x_1) - np.array(x_2)), e, alpha = 0.5, label = 'code results', marker = '+', color = 'silver')\n",
    "ax.plot(np.abs(np.array(x_1) - np.array(x_2)), vfunc(np.abs(np.array(x_1) - np.array(x_2))), label = 'theorical result')\n",
    "ax.set( xlabel = r'$\\frac{r_{ij}}{R}$', ylabel = r'$E_{log,exp}$')\n",
    "ax.legend()\n",
    "plt.savefig(\"test_2_body_energy.pdf\", dpi = 400)"
   ]
  },
  {
   "cell_type": "code",
   "execution_count": 348,
   "metadata": {},
   "outputs": [
    {
     "data": {
      "text/plain": [
       "-0.8160602794142788"
      ]
     },
     "execution_count": 348,
     "metadata": {},
     "output_type": "execute_result"
    }
   ],
   "source": [
    "-1 + 1/np.e/2"
   ]
  },
  {
   "cell_type": "code",
   "execution_count": 349,
   "metadata": {},
   "outputs": [
    {
     "data": {
      "text/plain": [
       "2.4865248135797664"
      ]
     },
     "execution_count": 349,
     "metadata": {},
     "output_type": "execute_result"
    }
   ],
   "source": [
    "-np.log(0.1) + 1/np.e/2"
   ]
  },
  {
   "cell_type": "code",
   "execution_count": 350,
   "metadata": {},
   "outputs": [
    {
     "data": {
      "text/plain": [
       "0.14909863971494366"
      ]
     },
     "execution_count": 350,
     "metadata": {},
     "output_type": "execute_result"
    }
   ],
   "source": [
    "np.e**(-1.1**2)/2"
   ]
  },
  {
   "cell_type": "code",
   "execution_count": null,
   "metadata": {},
   "outputs": [],
   "source": []
  }
 ],
 "metadata": {
  "kernelspec": {
   "display_name": "base",
   "language": "python",
   "name": "python3"
  },
  "language_info": {
   "codemirror_mode": {
    "name": "ipython",
    "version": 3
   },
   "file_extension": ".py",
   "mimetype": "text/x-python",
   "name": "python",
   "nbconvert_exporter": "python",
   "pygments_lexer": "ipython3",
   "version": "3.10.9"
  },
  "orig_nbformat": 4
 },
 "nbformat": 4,
 "nbformat_minor": 2
}
